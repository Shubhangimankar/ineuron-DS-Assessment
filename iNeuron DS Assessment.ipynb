{
 "cells": [
  {
   "cell_type": "code",
   "execution_count": null,
   "id": "5210747f",
   "metadata": {},
   "outputs": [],
   "source": [
    "Mr. Karthiken works in a door mat manufacturing company. One day, he designed a new door mat with the following specifications:\n",
    "\n",
    "             a) Mat size must be N X M. (N is an odd natural number, and M is 3 times N.)\n",
    "              b) The design should have ‘WELCOME’ written in the center.\n",
    "              c) The design pattern should only use |, . and – characters.\n",
    "   Sample Design is given above image, Write a python code for this.\n"
   ]
  },
  {
   "cell_type": "code",
   "execution_count": 15,
   "id": "1bfe65e2",
   "metadata": {},
   "outputs": [
    {
     "name": "stdout",
     "output_type": "stream",
     "text": [
      "7 21\n",
      "---------.|.---------\n",
      "------.|..|..|.------\n",
      "---.|..|..|..|..|.---\n",
      "-------WELCOME-------\n",
      "---.|..|..|..|..|.---\n",
      "------.|..|..|.------\n",
      "---------.|.---------\n"
     ]
    }
   ],
   "source": [
    "import math\n",
    "N, M = map(int, input().split()) \n",
    "for i in range(0,math.floor(N/2)): \n",
    "    s='.|.'*i\n",
    "    print (s.rjust(math.floor((M-2)/2),'-')+'.|.'+('.|.'*i).ljust(math.floor((M-2)/2),'-'))\n",
    "print ('WELCOME'.center(M,'-'))\n",
    "for i in reversed(range(0,math.floor(N/2))): \n",
    "    s='.|.'*i\n",
    "    print (s.rjust(math.floor((M-2)/2),'-')+'.|.'+('.|.'*i).ljust(math.floor((M-2)/2),'-'))"
   ]
  },
  {
   "cell_type": "code",
   "execution_count": null,
   "id": "a1ce08b7",
   "metadata": {},
   "outputs": [],
   "source": [
    "Given an array nums of n integers, return an array of all the unique quadruplets [nums[a], nums[b], nums[c], nums[d]] such that:\n",
    "\n",
    "   a) 0 <= a, b, c, d < n\n",
    "   b) a, b, c, and d are distinct.\n",
    "   c) nums[a] + nums[b] + nums[c] + nums[d] == target\n"
   ]
  },
  {
   "cell_type": "code",
   "execution_count": 1,
   "id": "ba6dcf04",
   "metadata": {},
   "outputs": [],
   "source": [
    "from collections import defaultdict \n",
    "  \n",
    "class Solution: \n",
    "    def fourSum(self, nums, target): \n",
    "        n = len(nums) \n",
    "        if n < 4: \n",
    "            return [] \n",
    "        nums.sort() \n",
    "        res = set() \n",
    "        d = defaultdict(list) \n",
    "        for i in range(n): \n",
    "            for j in range(i + 1, n): \n",
    "                d[nums[i] + nums[j]].append((i, j)) \n",
    "        for key in d: \n",
    "            for i in d[key]: \n",
    "                for j in d[target - key]: \n",
    "                    if i[0] != j[0] and i[0] != j[1] and i[1] != j[0] and i[1] != j[1]: \n",
    "                        li = [nums[k] for k in sorted(set([i[0], i[1], j[0], j[1]]))] \n",
    "                        res.add(tuple(li)) \n",
    "        return list(res)"
   ]
  },
  {
   "cell_type": "code",
   "execution_count": null,
   "id": "afac182d",
   "metadata": {},
   "outputs": [],
   "source": [
    "Question: 2\n",
    "\n",
    "\n",
    "Given an array of length ‘N’, where each element denotes the position of a stall. Now you have ‘N’ stalls and an integer ‘K’\n",
    "which denotes the number of horses that are mad. To prevent the horses from hurting each other, \n",
    "you need to assign the horses to the stalls, such that the minimum distance between any two of\n",
    "them is as large as possible. Return the largest minimum distance.\n",
    "\n",
    "array: 1,2,4,8,9  &  k=3\n",
    "\n",
    "O/P: 3\n"
   ]
  },
  {
   "cell_type": "code",
   "execution_count": 14,
   "id": "561dd477",
   "metadata": {},
   "outputs": [
    {
     "name": "stdout",
     "output_type": "stream",
     "text": [
      "3\n"
     ]
    }
   ],
   "source": [
    "# Python code to implement the approach\n",
    "\n",
    "# Function to check whether a distance is\n",
    "# keeping all the horses in the stall\n",
    "\n",
    "def ok(v,x,c):\n",
    "\tn=len(v)\n",
    "\tcount=1\n",
    "\td=v[0]\n",
    "\tfor i in range(1,n):\n",
    "\t\tif(v[i]-d>=x):\n",
    "\t\t\td=v[i]\n",
    "\t\t\tcount=count+1\n",
    "\t\telse:\n",
    "\t\t\tcontinue\n",
    "\tif(count>=c):\n",
    "\t\treturn True\n",
    "\t\n",
    "\treturn False\n",
    "\t\n",
    "# Function to find the maximum possible\n",
    "# minimum distance between two horses\n",
    "def aggressive_horses(v,n,k):\n",
    "\tans=-1\n",
    "\tmaxi=0\n",
    "\tfor i in range(n):\n",
    "\t\tmaxi=max(maxi,v[i])\n",
    "\t\n",
    "\t# Loop from 1 to max limit of the\n",
    "\t# barn length (here = 10^9)\n",
    "\t\n",
    "\tfor i in range(1,maxi+1):\n",
    "\t\tif(ok(v,i,k)):\n",
    "\t\t\tans=i\n",
    "\t\telse:\n",
    "\t\t\tbreak\n",
    "\t\n",
    "\treturn ans\n",
    "\t\n",
    "# Driver code\n",
    "K=3\n",
    "arr=[1,2,4,8,9]\n",
    "N=len(arr)\n",
    "\n",
    "# Function call\n",
    "ans=aggressive_horses(arr,N,K)\n",
    "print(ans)\n"
   ]
  },
  {
   "cell_type": "code",
   "execution_count": null,
   "id": "8b7502fb",
   "metadata": {},
   "outputs": [],
   "source": [
    "You have an input dictionary given,\n",
    "\n",
    "input_dict = {\"abc\":{\"def\":{\"ghi\":{\"jkl\":{\"mno\":{\"pqr\":{\"stu\":{\"vwx\":{\"yz\":\"you are finally here !!!\"}}}}}}}}}\n",
    "\n",
    "Task:  You have to write a Python function that will take this input and print it like that,\n",
    "\n",
    "output = {\"abc\":[\"def\",\"ghi\",\"jkl\",\"mno\",\"pqr\",\"stu\",\"vwx\",\"yz\"],\n",
    " \"def\":[\"ghi\",\"jkl\",\"mno\",\"pqr\",\"stu\",\"vwx\",\"yz\"],\n",
    " \"ghi\":[\"jkl\",\"mno\",\"pqr\",\"stu\",\"vwx\",\"yz\"],\n",
    " \"jkl\":[\"mno\",\"pqr\",\"stu\",\"vwx\",\"yz\"],\n",
    " \"mno\":[\"pqr\",\"stu\",\"vwx\",\"yz\"],\n",
    " \"pqr\":[\"stu\",\"vwx\",\"yz\"],\n",
    " \"stu\":[\"vwx\",\"yz\"],\n",
    " \"vwx\":[\"yz\"],\n",
    " \"yz\":[\"you are finally here !!!\"]}\n"
   ]
  },
  {
   "cell_type": "code",
   "execution_count": 20,
   "id": "3371f2e4",
   "metadata": {},
   "outputs": [
    {
     "name": "stdout",
     "output_type": "stream",
     "text": [
      "{'abc': ['def', 'ghi', 'jkl', 'mno', 'pqr', 'stu', 'vwx', 'yz'],\n",
      " 'def': ['ghi', 'jkl', 'mno', 'pqr', 'stu', 'vwx', 'yz'],\n",
      " 'ghi': ['jkl', 'mno', 'pqr', 'stu', 'vwx', 'yz'],\n",
      " 'jkl': ['mno', 'pqr', 'stu', 'vwx', 'yz'],\n",
      " 'mno': ['pqr', 'stu', 'vwx', 'yz'],\n",
      " 'pqr': ['stu', 'vwx', 'yz'],\n",
      " 'stu': ['vwx', 'yz'],\n",
      " 'vwx': ['yz'],\n",
      " 'yz': ['you are finally here !!!']}\n"
     ]
    }
   ],
   "source": [
    "from pprint import pprint\n",
    "\n",
    "data = {\"abc\":{\"def\":{\"ghi\":{\"jkl\":{\"mno\":{\"pqr\":{\"stu\":{\"vwx\":{\"yz\":\"you are finally here !!!\"}}}}}}}}}\n",
    "\n",
    "def a_particular_style(data):\n",
    "    ret = {}\n",
    "    for k, v in data.items():\n",
    "        if isinstance(v, dict):\n",
    "            d = a_particular_style(v)\n",
    "            ret.update(d)\n",
    "            ret[k] = list(reversed(d))\n",
    "        else:\n",
    "            ret[k] = [v]\n",
    "    return ret\n",
    "\n",
    "pprint(a_particular_style(data))"
   ]
  },
  {
   "cell_type": "code",
   "execution_count": null,
   "id": "23c93d39",
   "metadata": {},
   "outputs": [],
   "source": []
  },
  {
   "cell_type": "code",
   "execution_count": null,
   "id": "050d741f",
   "metadata": {},
   "outputs": [],
   "source": [
    "import pandas as pd\n",
    "import numpy as np\n",
    "import matplotlib.pyplot as plt\n",
    "import seaborn as sns\n",
    "%matplotlib inline\n",
    "df=pd.read_csv('Algerian_forest_fires_cleaned_dataset.csv')"
   ]
  }
 ],
 "metadata": {
  "kernelspec": {
   "display_name": "Python 3 (ipykernel)",
   "language": "python",
   "name": "python3"
  },
  "language_info": {
   "codemirror_mode": {
    "name": "ipython",
    "version": 3
   },
   "file_extension": ".py",
   "mimetype": "text/x-python",
   "name": "python",
   "nbconvert_exporter": "python",
   "pygments_lexer": "ipython3",
   "version": "3.11.5"
  }
 },
 "nbformat": 4,
 "nbformat_minor": 5
}
